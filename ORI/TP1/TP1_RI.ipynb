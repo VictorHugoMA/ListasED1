{
  "nbformat": 4,
  "nbformat_minor": 0,
  "metadata": {
    "colab": {
      "name": "TP1-RI.ipynb",
      "provenance": [],
      "collapsed_sections": []
    },
    "kernelspec": {
      "name": "python3",
      "display_name": "Python 3"
    },
    "language_info": {
      "name": "python"
    }
  },
  "cells": [
    {
      "cell_type": "markdown",
      "source": [
        "#Algoritimo de processamento inicial de arquivos, geração de vocabulário e bag of words"
      ],
      "metadata": {
        "id": "KAieNy2sHrfc"
      }
    },
    {
      "cell_type": "code",
      "execution_count": 8,
      "metadata": {
        "id": "T0l_l5ImaiiG",
        "colab": {
          "base_uri": "https://localhost:8080/"
        },
        "outputId": "cc1c6595-62c6-4de4-c0df-d0d4d4cae04e"
      },
      "outputs": [
        {
          "output_type": "stream",
          "name": "stdout",
          "text": [
            "Vocabulário: ['amado', 'brasileiro', 'clube', 'dentre', 'es', 'forte', 'grande', 'grandes', 'o', 'os', 'paulista', 'primeiro', 'salve', 'tricolor', 'tu']\n",
            "\n",
            "\n",
            "Documento: ['dentre', 'es', 'forte', 'grande', 'grandes', 'o', 'os', 'primeiro', 'tu']\n",
            "\n",
            "Bag of Words: [0, 0, 0, 1, 1, 1, 1, 1, 1, 1, 0, 1, 0, 0, 1]\n",
            "\n",
            "Documento: ['brasil', 'campeao', 'campeoes', 'coracoes', 'corinthians', 'de', 'dentro', 'desportistas', 'do', 'dos', 'e', 'es', 'eternamente', 'glorias', 'mil', 'nosso', 'o', 'orgulho', 'salve', 'tradicoes', 'tu']\n",
            "\n",
            "Bag of Words: [0, 0, 0, 0, 1, 0, 0, 0, 1, 0, 0, 0, 1, 0, 1]\n"
          ]
        }
      ],
      "source": [
        "import string\n",
        "import unidecode\n",
        "\n",
        "def separaArquivo(nomeArquivo):\n",
        "  texto = open(nomeArquivo, 'r')\n",
        "  texto = texto.read()\n",
        "  \n",
        "  texto = unidecode.unidecode(texto)\n",
        "  pontuacao = string.punctuation\n",
        "  for i in pontuacao:\n",
        "    texto = texto.replace(i,\"\")\n",
        "  \n",
        "  termos = texto.lower().split()\n",
        "  termos.sort()\n",
        "  termos = list(dict.fromkeys(termos))\n",
        "\n",
        "  return termos\n",
        "  \n",
        "def comparaTermos(vocabulario, documento):\n",
        "  bagOfWords = []\n",
        "  for i in vocabulario:\n",
        "    if i in documento:\n",
        "      bagOfWords.append(1)\n",
        "    else:\n",
        "      bagOfWords.append(0)\n",
        "\n",
        "  return bagOfWords\n",
        "\n",
        "def comparaInputArquivos(vocabulario):\n",
        "  nomeDocumento=''\n",
        "  print('DIGITE ! PARA FINALIZAR')\n",
        "  while(1):\n",
        "    bagOfWords = []\n",
        "    nomeDocumento=input('\\nDigite o nome do documento: ')\n",
        "    \n",
        "    if(nomeDocumento=='!'):\n",
        "      break\n",
        "    \n",
        "    documento = separaArquivo(nomeDocumento)\n",
        "    print(f'\\nDocumento: {documento}\\n')\n",
        "    bagOfWords = comparaTermos(vocabulario, documento)\n",
        "    print(f'Bag of Words: {bagOfWords}')\n",
        "\n",
        "def comparaListaArquivos(vocabulario, lista):\n",
        "  for i in lista:\n",
        "    bagOfWords = []\n",
        "    documento = separaArquivo(i)\n",
        "    print(f'\\nDocumento: {documento}\\n')\n",
        "    bagOfWords = comparaTermos(vocabulario, documento)\n",
        "    print(f'Bag of Words: {bagOfWords}')\n",
        "  \n",
        "\n",
        "vocabulario = separaArquivo('/content/sample_data/vocabulario.txt')\n",
        "print(f'Vocabulário: {vocabulario}\\n')\n",
        "lista = ['/content/sample_data/documento01.txt', '/content/sample_data/documento02.txt']\n",
        "comparaListaArquivos(vocabulario, lista)"
      ]
    },
    {
      "cell_type": "markdown",
      "source": [
        "# Baixando biblioteca"
      ],
      "metadata": {
        "id": "j9HKXXz7KZX7"
      }
    },
    {
      "cell_type": "code",
      "source": [
        "!pip install unidecode"
      ],
      "metadata": {
        "colab": {
          "base_uri": "https://localhost:8080/"
        },
        "id": "YIvCVJHebdnX",
        "outputId": "9482a116-6413-4578-c2d2-cbb373a88ee9"
      },
      "execution_count": 1,
      "outputs": [
        {
          "output_type": "stream",
          "name": "stdout",
          "text": [
            "Collecting unidecode\n",
            "  Downloading Unidecode-1.3.4-py3-none-any.whl (235 kB)\n",
            "\u001b[?25l\r\u001b[K     |█▍                              | 10 kB 23.7 MB/s eta 0:00:01\r\u001b[K     |██▉                             | 20 kB 30.0 MB/s eta 0:00:01\r\u001b[K     |████▏                           | 30 kB 34.1 MB/s eta 0:00:01\r\u001b[K     |█████▋                          | 40 kB 17.9 MB/s eta 0:00:01\r\u001b[K     |███████                         | 51 kB 12.6 MB/s eta 0:00:01\r\u001b[K     |████████▍                       | 61 kB 14.7 MB/s eta 0:00:01\r\u001b[K     |█████████▊                      | 71 kB 11.8 MB/s eta 0:00:01\r\u001b[K     |███████████▏                    | 81 kB 10.6 MB/s eta 0:00:01\r\u001b[K     |████████████▌                   | 92 kB 10.1 MB/s eta 0:00:01\r\u001b[K     |██████████████                  | 102 kB 11.1 MB/s eta 0:00:01\r\u001b[K     |███████████████▎                | 112 kB 11.1 MB/s eta 0:00:01\r\u001b[K     |████████████████▊               | 122 kB 11.1 MB/s eta 0:00:01\r\u001b[K     |██████████████████              | 133 kB 11.1 MB/s eta 0:00:01\r\u001b[K     |███████████████████▌            | 143 kB 11.1 MB/s eta 0:00:01\r\u001b[K     |████████████████████▉           | 153 kB 11.1 MB/s eta 0:00:01\r\u001b[K     |██████████████████████▎         | 163 kB 11.1 MB/s eta 0:00:01\r\u001b[K     |███████████████████████▋        | 174 kB 11.1 MB/s eta 0:00:01\r\u001b[K     |█████████████████████████       | 184 kB 11.1 MB/s eta 0:00:01\r\u001b[K     |██████████████████████████▍     | 194 kB 11.1 MB/s eta 0:00:01\r\u001b[K     |███████████████████████████▉    | 204 kB 11.1 MB/s eta 0:00:01\r\u001b[K     |█████████████████████████████▏  | 215 kB 11.1 MB/s eta 0:00:01\r\u001b[K     |██████████████████████████████▋ | 225 kB 11.1 MB/s eta 0:00:01\r\u001b[K     |████████████████████████████████| 235 kB 11.1 MB/s eta 0:00:01\r\u001b[K     |████████████████████████████████| 235 kB 11.1 MB/s \n",
            "\u001b[?25hInstalling collected packages: unidecode\n",
            "Successfully installed unidecode-1.3.4\n"
          ]
        }
      ]
    }
  ]
}